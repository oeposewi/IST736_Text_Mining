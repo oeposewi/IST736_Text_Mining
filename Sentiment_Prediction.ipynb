{
 "cells": [
  {
   "cell_type": "code",
   "execution_count": 1,
   "metadata": {},
   "outputs": [
    {
     "data": {
      "text/html": [
       "<div>\n",
       "<style scoped>\n",
       "    .dataframe tbody tr th:only-of-type {\n",
       "        vertical-align: middle;\n",
       "    }\n",
       "\n",
       "    .dataframe tbody tr th {\n",
       "        vertical-align: top;\n",
       "    }\n",
       "\n",
       "    .dataframe thead th {\n",
       "        text-align: right;\n",
       "    }\n",
       "</style>\n",
       "<table border=\"1\" class=\"dataframe\">\n",
       "  <thead>\n",
       "    <tr style=\"text-align: right;\">\n",
       "      <th></th>\n",
       "      <th>lie</th>\n",
       "      <th>sentiment</th>\n",
       "      <th>review</th>\n",
       "    </tr>\n",
       "  </thead>\n",
       "  <tbody>\n",
       "    <tr>\n",
       "      <th>0</th>\n",
       "      <td>f</td>\n",
       "      <td>n</td>\n",
       "      <td>'Mike\\'s Pizza High Point, NY Service was very...</td>\n",
       "    </tr>\n",
       "    <tr>\n",
       "      <th>1</th>\n",
       "      <td>f</td>\n",
       "      <td>n</td>\n",
       "      <td>'i really like this buffet restaurant in Marsh...</td>\n",
       "    </tr>\n",
       "    <tr>\n",
       "      <th>2</th>\n",
       "      <td>f</td>\n",
       "      <td>n</td>\n",
       "      <td>'After I went shopping with some of my friend,...</td>\n",
       "    </tr>\n",
       "    <tr>\n",
       "      <th>3</th>\n",
       "      <td>f</td>\n",
       "      <td>n</td>\n",
       "      <td>'Olive Oil Garden was very disappointing. I ex...</td>\n",
       "    </tr>\n",
       "    <tr>\n",
       "      <th>4</th>\n",
       "      <td>f</td>\n",
       "      <td>n</td>\n",
       "      <td>'The Seven Heaven restaurant was never known f...</td>\n",
       "    </tr>\n",
       "    <tr>\n",
       "      <th>...</th>\n",
       "      <td>...</td>\n",
       "      <td>...</td>\n",
       "      <td>...</td>\n",
       "    </tr>\n",
       "    <tr>\n",
       "      <th>87</th>\n",
       "      <td>t</td>\n",
       "      <td>p</td>\n",
       "      <td>'Pastablities is a locally owned restaurant in...</td>\n",
       "    </tr>\n",
       "    <tr>\n",
       "      <th>88</th>\n",
       "      <td>t</td>\n",
       "      <td>p</td>\n",
       "      <td>'I like the Pizza at Dominoes for their specia...</td>\n",
       "    </tr>\n",
       "    <tr>\n",
       "      <th>89</th>\n",
       "      <td>t</td>\n",
       "      <td>p</td>\n",
       "      <td>'It was a really amazing Japanese restaurant. ...</td>\n",
       "    </tr>\n",
       "    <tr>\n",
       "      <th>90</th>\n",
       "      <td>t</td>\n",
       "      <td>p</td>\n",
       "      <td>'How do I even pick a best experience at Joe\\'...</td>\n",
       "    </tr>\n",
       "    <tr>\n",
       "      <th>91</th>\n",
       "      <td>t</td>\n",
       "      <td>p</td>\n",
       "      <td>'My sister and I ate at this restaurant called...</td>\n",
       "    </tr>\n",
       "  </tbody>\n",
       "</table>\n",
       "<p>92 rows × 3 columns</p>\n",
       "</div>"
      ],
      "text/plain": [
       "   lie sentiment                                             review\n",
       "0    f         n  'Mike\\'s Pizza High Point, NY Service was very...\n",
       "1    f         n  'i really like this buffet restaurant in Marsh...\n",
       "2    f         n  'After I went shopping with some of my friend,...\n",
       "3    f         n  'Olive Oil Garden was very disappointing. I ex...\n",
       "4    f         n  'The Seven Heaven restaurant was never known f...\n",
       "..  ..       ...                                                ...\n",
       "87   t         p  'Pastablities is a locally owned restaurant in...\n",
       "88   t         p  'I like the Pizza at Dominoes for their specia...\n",
       "89   t         p  'It was a really amazing Japanese restaurant. ...\n",
       "90   t         p  'How do I even pick a best experience at Joe\\'...\n",
       "91   t         p  'My sister and I ate at this restaurant called...\n",
       "\n",
       "[92 rows x 3 columns]"
      ]
     },
     "execution_count": 1,
     "metadata": {},
     "output_type": "execute_result"
    }
   ],
   "source": [
    "# read in csv\n",
    "\n",
    "import pandas as pd\n",
    "\n",
    "data_df = pd.read_csv('deception_data.tsv', delimiter='\\t')\n",
    "data_df"
   ]
  },
  {
   "cell_type": "code",
   "execution_count": 2,
   "metadata": {},
   "outputs": [
    {
     "data": {
      "text/html": [
       "<div>\n",
       "<style scoped>\n",
       "    .dataframe tbody tr th:only-of-type {\n",
       "        vertical-align: middle;\n",
       "    }\n",
       "\n",
       "    .dataframe tbody tr th {\n",
       "        vertical-align: top;\n",
       "    }\n",
       "\n",
       "    .dataframe thead th {\n",
       "        text-align: right;\n",
       "    }\n",
       "</style>\n",
       "<table border=\"1\" class=\"dataframe\">\n",
       "  <thead>\n",
       "    <tr style=\"text-align: right;\">\n",
       "      <th></th>\n",
       "      <th>lie</th>\n",
       "      <th>sentiment</th>\n",
       "      <th>review</th>\n",
       "      <th>cleaned</th>\n",
       "    </tr>\n",
       "  </thead>\n",
       "  <tbody>\n",
       "    <tr>\n",
       "      <th>0</th>\n",
       "      <td>f</td>\n",
       "      <td>n</td>\n",
       "      <td>'Mike\\'s Pizza High Point, NY Service was very...</td>\n",
       "      <td>Mike\\ Pizza High Point NY Service slow quality...</td>\n",
       "    </tr>\n",
       "    <tr>\n",
       "      <th>1</th>\n",
       "      <td>f</td>\n",
       "      <td>n</td>\n",
       "      <td>'i really like this buffet restaurant in Marsh...</td>\n",
       "      <td>like buffet restaurant Marshall street lot sel...</td>\n",
       "    </tr>\n",
       "    <tr>\n",
       "      <th>2</th>\n",
       "      <td>f</td>\n",
       "      <td>n</td>\n",
       "      <td>'After I went shopping with some of my friend,...</td>\n",
       "      <td>went shopping friend went DODO restaurant dinn...</td>\n",
       "    </tr>\n",
       "  </tbody>\n",
       "</table>\n",
       "</div>"
      ],
      "text/plain": [
       "  lie sentiment                                             review  \\\n",
       "0   f         n  'Mike\\'s Pizza High Point, NY Service was very...   \n",
       "1   f         n  'i really like this buffet restaurant in Marsh...   \n",
       "2   f         n  'After I went shopping with some of my friend,...   \n",
       "\n",
       "                                             cleaned  \n",
       "0  Mike\\ Pizza High Point NY Service slow quality...  \n",
       "1  like buffet restaurant Marshall street lot sel...  \n",
       "2  went shopping friend went DODO restaurant dinn...  "
      ]
     },
     "execution_count": 2,
     "metadata": {},
     "output_type": "execute_result"
    }
   ],
   "source": [
    "# clean the text\n",
    "\n",
    "import spacy\n",
    "nlp = spacy.load('en_core_web_sm')\n",
    "\n",
    "def clean_text(text_):\n",
    "    \n",
    "    doc = nlp(text_)\n",
    "\n",
    "    tokens = [i.text for i in doc if not i.is_punct | i.is_stop | i.like_num]\n",
    "\n",
    "    tokens = ' '.join(tokens)\n",
    "    return tokens\n",
    "\n",
    "data_df['cleaned'] = data_df.review.apply(lambda x: clean_text(x))\n",
    "data_df.head(3)"
   ]
  },
  {
   "cell_type": "code",
   "execution_count": 3,
   "metadata": {},
   "outputs": [],
   "source": [
    "# split data\n",
    "\n",
    "from sklearn.model_selection import train_test_split\n",
    "\n",
    "def split_data(df_, x, y, test_size):\n",
    "    y_vals = data_df[y].values\n",
    "    x_vals = data_df[x].values\n",
    "\n",
    "    x_train, x_test, y_train, y_test = train_test_split(x_vals, y_vals, test_size=test_size, random_state=0)\n",
    "\n",
    "    return  x_train, x_test, y_train, y_test\n"
   ]
  },
  {
   "cell_type": "markdown",
   "metadata": {},
   "source": [
    "# Sentiment prediction: Baseline Accuracy 50%"
   ]
  },
  {
   "cell_type": "code",
   "execution_count": 4,
   "metadata": {},
   "outputs": [
    {
     "name": "stdout",
     "output_type": "stream",
     "text": [
      "sentiment\n",
      "n    46\n",
      "p    46\n",
      "dtype: int64\n"
     ]
    }
   ],
   "source": [
    "print(data_df.groupby(by='sentiment').size())"
   ]
  },
  {
   "cell_type": "code",
   "execution_count": 5,
   "metadata": {},
   "outputs": [
    {
     "name": "stdout",
     "output_type": "stream",
     "text": [
      "(64,) (28,) (64,) (28,)\n",
      "'The restaurant looked pretty good, the people around me all ate and talked happily. The environment was comfortable and it calmed me down from the busy life. The food tasted fantastic and the price was suitable'\n",
      "p\n",
      "'After I went shopping with some of my friend, we went to DODO restaurant for dinner. I found worm in one of the dishes .'\n",
      "n\n"
     ]
    }
   ],
   "source": [
    "# Split the data by sentiment\n",
    "\n",
    "# pre cleaned text\n",
    "x_sent_train, x_sent_test, y_sent_train, y_sent_test = split_data(data_df, 'review','sentiment', test_size=.3)\n",
    "\n",
    "print(x_sent_train.shape, x_sent_test.shape, y_sent_train.shape, y_sent_test.shape)\n",
    "print(x_sent_train[0])\n",
    "print(y_sent_train[0])\n",
    "print(x_sent_test[0])\n",
    "print(y_sent_test[0])\n",
    "\n",
    "# cleaned text\n",
    "x_sent_train_clean, x_sent_test_clean, y_sent_train_clean, y_sent_test_clean = split_data(data_df, 'cleaned','sentiment', .7)\n",
    "\n"
   ]
  },
  {
   "cell_type": "code",
   "execution_count": 6,
   "metadata": {},
   "outputs": [],
   "source": [
    "# Vectorize\n",
    "from sklearn.feature_extraction.text import CountVectorizer\n",
    "from sklearn.feature_extraction.text import TfidfVectorizer\n",
    "\n",
    "\n",
    "# initialize vectorizer\n",
    "count_vec = CountVectorizer(binary=False)\n",
    "gram12_count_vec = CountVectorizer(binary=False, ngram_range=(1,2), max_df=.8)\n",
    "tfidf_vec = TfidfVectorizer()\n",
    "\n",
    "\n",
    "# vectorize training data\n",
    "x_train_vec_1gram  = count_vec.fit_transform(x_sent_train_clean)\n",
    "x_train_vec_12gram = gram12_count_vec.fit_transform(x_sent_train_clean)\n",
    "x_train_vec_tfidf  = tfidf_vec.fit_transform(x_sent_train_clean)\n",
    "\n",
    "\n",
    "# vectorize test data\n",
    "x_test_vec_1gram  = count_vec.transform(x_sent_test_clean)\n",
    "x_test_vec_12gram = gram12_count_vec.transform(x_sent_test_clean)\n",
    "x_test_vec_tfidf  = tfidf_vec.transform(x_sent_test_clean)"
   ]
  },
  {
   "cell_type": "code",
   "execution_count": 7,
   "metadata": {},
   "outputs": [
    {
     "data": {
      "text/plain": [
       "list"
      ]
     },
     "execution_count": 7,
     "metadata": {},
     "output_type": "execute_result"
    }
   ],
   "source": [
    "type(count_vec.get_feature_names())"
   ]
  },
  {
   "cell_type": "code",
   "execution_count": 8,
   "metadata": {},
   "outputs": [
    {
     "name": "stdout",
     "output_type": "stream",
     "text": [
      "unigram:  0.8666666666666666\n",
      "1&2gram:  0.8266666666666665\n",
      "tfidf:  0.5933333333333334\n"
     ]
    }
   ],
   "source": [
    "# fit model using cross-validation\n",
    "\n",
    "from sklearn.naive_bayes import MultinomialNB\n",
    "from sklearn.model_selection import cross_val_score\n",
    "from sklearn import metrics\n",
    "from sklearn.pipeline import Pipeline\n",
    "\n",
    "# initialize model\n",
    "mnb_model = MultinomialNB()\n",
    "\n",
    "# train model using cross validation\n",
    "scores_1gram  = cross_val_score(mnb_model, x_train_vec_1gram,  y_sent_train_clean, cv = 5)\n",
    "scores_12gram = cross_val_score(mnb_model, x_train_vec_12gram, y_sent_train_clean, cv = 5)\n",
    "scores_tfidf  = cross_val_score(mnb_model, x_train_vec_tfidf,  y_sent_train_clean, cv = 5)\n",
    "\n",
    "# print out validation scores\n",
    "print('unigram: ', sum(scores_1gram)/ len(scores_1gram))\n",
    "print('1&2gram: ', sum(scores_12gram)/len(scores_12gram))\n",
    "print('tfidf: ',   sum(scores_tfidf)/ len(scores_tfidf))\n",
    "\n",
    "# Unigrams seem to perform the best"
   ]
  },
  {
   "cell_type": "code",
   "execution_count": 9,
   "metadata": {},
   "outputs": [
    {
     "name": "stdout",
     "output_type": "stream",
     "text": [
      "--------  ----------\n",
      "-5.33754  service\n",
      "-5.33754  terrible\n",
      "-5.33754  took\n",
      "-5.18339  tofu\n",
      "-5.18339  wasn\n",
      "-5.18339  went\n",
      "-5.04986  waitress\n",
      "-4.82671  place\n",
      "-4.7314   restaurant\n",
      "-4.35671  food\n",
      "--------  ----------\n",
      "--------  ----------\n",
      "-5.23733  fresh\n",
      "-5.23733  friendly\n",
      "-5.23733  pizza\n",
      "-5.08318  amazing\n",
      "-5.08318  it\n",
      "-5.08318  like\n",
      "-5.08318  place\n",
      "-4.54418  restaurant\n",
      "-4.46414  best\n",
      "-4.32104  food\n",
      "--------  ----------\n"
     ]
    }
   ],
   "source": [
    "# get top features\n",
    "\n",
    "from tabulate import tabulate\n",
    "from sklearn.feature_extraction.text import TfidfVectorizer\n",
    "\n",
    "mnb_1gram = MultinomialNB()\n",
    "\n",
    "mnb_1gram.fit(x_train_vec_1gram, y_sent_train_clean)\n",
    "\n",
    "feature_ranks_n = sorted(zip(mnb_1gram.feature_log_prob_[0], count_vec.get_feature_names()))\n",
    "top_10_n = feature_ranks_n[-10:]\n",
    "print(tabulate(top_10_n))\n",
    "\n",
    "feature_ranks_p = sorted(zip(mnb_1gram.feature_log_prob_[1], count_vec.get_feature_names()))\n",
    "top_10_p = feature_ranks_p[-10:]\n",
    "print(tabulate(top_10_p))"
   ]
  },
  {
   "cell_type": "code",
   "execution_count": 10,
   "metadata": {},
   "outputs": [
    {
     "data": {
      "text/plain": [
       "Text(0.5, 1.0, 'Multinomial Bayes Sentiment')"
      ]
     },
     "execution_count": 10,
     "metadata": {},
     "output_type": "execute_result"
    },
    {
     "data": {
      "image/png": "[encoded data removed]",
      "text/plain": [
       "<Figure size 432x288 with 2 Axes>"
      ]
     },
     "metadata": {
      "needs_background": "light"
     },
     "output_type": "display_data"
    }
   ],
   "source": [
    "# Test Model\n",
    "\n",
    "from sklearn.metrics import confusion_matrix, ConfusionMatrixDisplay\n",
    "import matplotlib.pyplot as plt\n",
    "\n",
    "mnb_1gram.score(x_test_vec_1gram, y_sent_test_clean)\n",
    "\n",
    "y_pred = mnb_1gram.fit(x_train_vec_1gram, y_sent_train_clean).predict(x_test_vec_1gram)\n",
    "cm=confusion_matrix(y_sent_test_clean, y_pred, labels=['n','p'])\n",
    "\n",
    "disp = ConfusionMatrixDisplay(confusion_matrix=cm, display_labels=mnb_1gram.classes_)\n",
    "\n",
    "disp.plot()\n",
    "plt.title('Multinomial Bayes Sentiment')"
   ]
  },
  {
   "cell_type": "code",
   "execution_count": 11,
   "metadata": {},
   "outputs": [
    {
     "name": "stdout",
     "output_type": "stream",
     "text": [
      "(array([0.95833333, 0.70731707]), array([0.65714286, 0.96666667]), array([0.77966102, 0.81690141]))\n",
      "             negative    positive\n",
      "---------  ----------  ----------\n",
      "precision    0.958333    0.707317\n",
      "recall       0.657143    0.966667\n",
      "f1           0.779661    0.816901\n"
     ]
    }
   ],
   "source": [
    "# error Analysis\n",
    "from sklearn.metrics import precision_recall_fscore_support\n",
    "\n",
    "scores = precision_recall_fscore_support(y_sent_test_clean, y_pred, beta=1)\n",
    "\n",
    "precision_n = scores[0][0]\n",
    "precision_p = scores[0][1]\n",
    "\n",
    "recall_n = scores[1][0]\n",
    "recall_p = scores[1][1]\n",
    "\n",
    "f1_n = scores[2][0]\n",
    "f1_p = scores[2][1]\n",
    "\n",
    "print(scores[:3])\n",
    "\n",
    "print(tabulate(scores[:3], \n",
    "                headers=['negative','positive'],\n",
    "                 showindex=['precision','recall','f1']))\n"
   ]
  },
  {
   "cell_type": "markdown",
   "metadata": {},
   "source": [
    "# Fake Review Prediction"
   ]
  },
  {
   "cell_type": "code",
   "execution_count": 12,
   "metadata": {},
   "outputs": [
    {
     "data": {
      "text/plain": [
       "lie\n",
       "f    46\n",
       "t    46\n",
       "dtype: int64"
      ]
     },
     "execution_count": 12,
     "metadata": {},
     "output_type": "execute_result"
    }
   ],
   "source": [
    "# Baseline accuracy\n",
    "\n",
    "data_df.groupby(by = 'lie').size()\n",
    "\n"
   ]
  },
  {
   "cell_type": "markdown",
   "metadata": {},
   "source": [
    "## Baseline accuracy 50%"
   ]
  },
  {
   "cell_type": "code",
   "execution_count": 13,
   "metadata": {},
   "outputs": [
    {
     "name": "stdout",
     "output_type": "stream",
     "text": [
      "(64,) (28,) (64,) (28,)\n",
      "restaurant looked pretty good people ate talked happily environment comfortable calmed busy life food tasted fantastic price suitable\n",
      "t\n",
      "went shopping friend went DODO restaurant dinner found worm dishes\n",
      "f\n"
     ]
    }
   ],
   "source": [
    "# split data by Lie\n",
    "\n",
    "x_lie_train, x_lie_test, y_lie_train, y_lie_test = split_data(data_df, 'cleaned','lie', test_size=.3)\n",
    "\n",
    "print(x_lie_train.shape, x_lie_test.shape, y_lie_train.shape, y_lie_test.shape)\n",
    "\n",
    "print(x_lie_train[0])\n",
    "print(y_lie_train[0])\n",
    "print(x_lie_test[0])\n",
    "print(y_lie_test[0])"
   ]
  },
  {
   "cell_type": "code",
   "execution_count": 14,
   "metadata": {},
   "outputs": [],
   "source": [
    "# Vectorize\n",
    "\n",
    "# initialize vectorizer\n",
    "count_vec = CountVectorizer(binary=False)\n",
    "gram12_count_vec = CountVectorizer(binary=False, ngram_range=(1,2), max_df=.9)\n",
    "tfidf_vec = TfidfVectorizer()\n",
    "\n",
    "\n",
    "# vectorize training data\n",
    "x_train_vec_1gram  = count_vec.fit_transform(x_lie_train)\n",
    "x_train_vec_12gram = gram12_count_vec.fit_transform(x_lie_train)\n",
    "x_train_vec_tfidf  = tfidf_vec.fit_transform(x_lie_train)\n",
    "x_train_vec_tfidf_12g = tfidf_vec.fit_transform(x_lie_train)\n",
    "\n",
    "\n",
    "# vectorize test data\n",
    "x_test_vec_1gram  = count_vec.transform(x_lie_test)\n",
    "x_test_vec_12gram = gram12_count_vec.transform(x_lie_test)\n",
    "x_test_vec_tfidf  = tfidf_vec.transform(x_lie_test)\n",
    "\n"
   ]
  },
  {
   "cell_type": "code",
   "execution_count": 15,
   "metadata": {},
   "outputs": [
    {
     "name": "stdout",
     "output_type": "stream",
     "text": [
      "unigram:  0.526923076923077\n",
      "1&2gram:  0.49743589743589745\n",
      "tfidf:  0.5448717948717948\n"
     ]
    }
   ],
   "source": [
    "# Fit model\n",
    "\n",
    "# initialize\n",
    "\n",
    "mnb_model_lie = MultinomialNB()\n",
    "\n",
    "# train models using cross validation\n",
    "scores_1gram_lie  = cross_val_score(mnb_model_lie, x_train_vec_1gram,  y_lie_train, cv = 5)\n",
    "scores_12gram_lie = cross_val_score(mnb_model_lie, x_train_vec_12gram, y_lie_train, cv = 5)\n",
    "scores_tfidf_lie  = cross_val_score(mnb_model_lie, x_train_vec_tfidf,  y_lie_train, cv = 5)\n",
    "\n",
    "# print out validation scores\n",
    "print('unigram: ', sum(scores_1gram_lie)/ len(scores_1gram_lie))\n",
    "print('1&2gram: ', sum(scores_12gram_lie)/len(scores_12gram_lie))\n",
    "print('tfidf: ',   sum(scores_tfidf_lie)/ len(scores_tfidf_lie))\n",
    "\n",
    "# tfidf works best"
   ]
  },
  {
   "cell_type": "code",
   "execution_count": 22,
   "metadata": {},
   "outputs": [
    {
     "name": "stdout",
     "output_type": "stream",
     "text": [
      "['f' 't']\n",
      "    prob  top_true\n",
      "--------  ----------\n",
      "-6.28974  menu\n",
      "-6.28932  like\n",
      "-6.28032  want\n",
      "-6.27969  minutes\n",
      "-6.27381  experience\n",
      "-6.18572  place\n",
      "-6.16904  service\n",
      "-6.12365  best\n",
      "-6.0714   restaurant\n",
      "-5.96578  food\n",
      "    prob  top_false\n",
      "--------  -----------\n",
      "-6.39949  pizza\n",
      "-6.38895  waiter\n",
      "-6.38891  environment\n",
      "-6.37084  dishes\n",
      "-6.32901  salad\n",
      "-6.32804  ordered\n",
      "-6.24771  place\n",
      "-6.15768  good\n",
      "-5.98565  food\n",
      "-5.80675  restaurant\n"
     ]
    }
   ],
   "source": [
    "# get top features\n",
    "\n",
    "mnb_tfidf = MultinomialNB()\n",
    "mnb_tfidf.fit(x_train_vec_tfidf_12g, y_lie_train)\n",
    "\n",
    "print(mnb_tfidf.classes_)\n",
    "feature_ranks_T = sorted(zip(mnb_tfidf.feature_log_prob_[0], count_vec.get_feature_names()))\n",
    "feature_ranks_L = sorted(zip(mnb_tfidf.feature_log_prob_[1], count_vec.get_feature_names()))\n",
    "\n",
    "top_10_T = feature_ranks_T[-10:]\n",
    "top_10_F = feature_ranks_L[-10:]\n",
    "\n",
    "print(tabulate(top_10_T, headers=['prob','top_true']))\n",
    "print(tabulate(top_10_F, headers=['prob','top_false']))"
   ]
  },
  {
   "cell_type": "code",
   "execution_count": 25,
   "metadata": {},
   "outputs": [
    {
     "data": {
      "text/plain": [
       "Text(0.5, 1.0, 'Multinomial Bayes Lie')"
      ]
     },
     "execution_count": 25,
     "metadata": {},
     "output_type": "execute_result"
    },
    {
     "data": {
      "image/png": "[encoded data removed]",
      "text/plain": [
       "<Figure size 432x288 with 2 Axes>"
      ]
     },
     "metadata": {
      "needs_background": "light"
     },
     "output_type": "display_data"
    }
   ],
   "source": [
    "# Test Model\n",
    "\n",
    "mnb_tfidf.score(x_test_vec_tfidf, y_lie_test)\n",
    "\n",
    "y_pred = mnb_tfidf.fit(x_train_vec_tfidf, y_lie_train).predict(x_test_vec_tfidf)\n",
    "cm = confusion_matrix(y_lie_test, y_pred, labels=['f','t'])\n",
    "\n",
    "disp = ConfusionMatrixDisplay(confusion_matrix=cm, display_labels=mnb_tfidf.classes_)\n",
    "\n",
    "disp.plot()\n",
    "plt.title('Multinomial Bayes Lie')"
   ]
  },
  {
   "cell_type": "code",
   "execution_count": 27,
   "metadata": {},
   "outputs": [
    {
     "name": "stdout",
     "output_type": "stream",
     "text": [
      "(array([0.52173913, 0.8       ]), array([0.92307692, 0.26666667]), array([0.66666667, 0.4       ]))\n",
      "              False      True\n",
      "---------  --------  --------\n",
      "precision  0.521739  0.8\n",
      "recall     0.923077  0.266667\n",
      "f1         0.666667  0.4\n"
     ]
    }
   ],
   "source": [
    "# Error Analysis\n",
    "\n",
    "scores = precision_recall_fscore_support(y_lie_test, y_pred, beta=1)\n",
    "\n",
    "precision_f = scores[0][0]\n",
    "precision_t = scores[0][1]\n",
    "\n",
    "recall_f = scores[1][0]\n",
    "recall_t = scores[1][1]\n",
    "\n",
    "f1_f = scores[2][0]\n",
    "f1_t = scores[2][1]\n",
    "\n",
    "print(scores[:3])\n",
    "\n",
    "print(tabulate(scores[:3], \n",
    "                headers=['False','True'],\n",
    "                 showindex=['precision','recall','f1']))\n"
   ]
  }
 ],
 "metadata": {
  "interpreter": {
   "hash": "ce6039e79e02d3c13aaacb4d762fae775e4ea408f064faa6bfa43082b36868cb"
  },
  "kernelspec": {
   "display_name": "Python 3.8.12 64-bit ('nlp': conda)",
   "name": "python3"
  },
  "language_info": {
   "codemirror_mode": {
    "name": "ipython",
    "version": 3
   },
   "file_extension": ".py",
   "mimetype": "text/x-python",
   "name": "python",
   "nbconvert_exporter": "python",
   "pygments_lexer": "ipython3",
   "version": "3.8.12"
  },
  "orig_nbformat": 4
 },
 "nbformat": 4,
 "nbformat_minor": 2
}
