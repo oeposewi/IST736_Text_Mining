{
 "cells": [
  {
   "cell_type": "code",
   "execution_count": 1,
   "metadata": {},
   "outputs": [
    {
     "name": "stdout",
     "output_type": "stream",
     "text": [
      "['Levels of cholesterol fractions in patients with JIA were found within the normal range.'\n",
      " 'Faster aspart and IAsp were confirmed noninferior in a basal-bolus regimen regarding change from baseline in HbA1c.'\n",
      " 'Major operative morbidity after minimally invasive hysterectomy is rare regardless of the surgical approach.'\n",
      " 'The promise of combining risk assessment, communication and management within one consultation was not realised.'\n",
      " 'PPARÎ´ peroxisome proliferator-activated receptor Î´, STAT3 signal transducer and activator of transcription 3, CTGF connective tissue growth factor, MMP9 matrix metallopeptidase 9.\"']\n"
     ]
    },
    {
     "data": {
      "text/html": [
       "<div>\n",
       "<style scoped>\n",
       "    .dataframe tbody tr th:only-of-type {\n",
       "        vertical-align: middle;\n",
       "    }\n",
       "\n",
       "    .dataframe tbody tr th {\n",
       "        vertical-align: top;\n",
       "    }\n",
       "\n",
       "    .dataframe thead th {\n",
       "        text-align: right;\n",
       "    }\n",
       "</style>\n",
       "<table border=\"1\" class=\"dataframe\">\n",
       "  <thead>\n",
       "    <tr style=\"text-align: right;\">\n",
       "      <th></th>\n",
       "      <th>sentence</th>\n",
       "      <th>label</th>\n",
       "    </tr>\n",
       "  </thead>\n",
       "  <tbody>\n",
       "    <tr>\n",
       "      <th>0</th>\n",
       "      <td>Levels of cholesterol fractions in patients wi...</td>\n",
       "      <td>0</td>\n",
       "    </tr>\n",
       "    <tr>\n",
       "      <th>1</th>\n",
       "      <td>Faster aspart and IAsp were confirmed noninfer...</td>\n",
       "      <td>0</td>\n",
       "    </tr>\n",
       "    <tr>\n",
       "      <th>2</th>\n",
       "      <td>Major operative morbidity after minimally inva...</td>\n",
       "      <td>0</td>\n",
       "    </tr>\n",
       "  </tbody>\n",
       "</table>\n",
       "</div>"
      ],
      "text/plain": [
       "                                            sentence  label\n",
       "0  Levels of cholesterol fractions in patients wi...      0\n",
       "1  Faster aspart and IAsp were confirmed noninfer...      0\n",
       "2  Major operative morbidity after minimally inva...      0"
      ]
     },
     "execution_count": 1,
     "metadata": {},
     "output_type": "execute_result"
    }
   ],
   "source": [
    "import pandas as pd\n",
    "import numpy as np\n",
    "\n",
    "papers = pd.read_csv('pubmed_causal_language_use.csv')\n",
    "\n",
    "print(papers.sentence.head(5).values)\n",
    "papers.head(3)"
   ]
  },
  {
   "cell_type": "markdown",
   "metadata": {},
   "source": [
    "# Data Exploration"
   ]
  },
  {
   "cell_type": "code",
   "execution_count": 2,
   "metadata": {},
   "outputs": [
    {
     "name": "stdout",
     "output_type": "stream",
     "text": [
      "                 0\n",
      "count  3061.000000\n",
      "mean    131.129696\n",
      "std      53.468980\n",
      "min      21.000000\n",
      "25%      93.000000\n",
      "50%     124.000000\n",
      "75%     163.000000\n",
      "max     372.000000\n"
     ]
    }
   ],
   "source": [
    "# Which Vectorization Method?\n",
    "\n",
    "# compute and summarize length of each sentence\n",
    "sentence_array = papers.sentence.values\n",
    "\n",
    "len_finder = np.vectorize(len)\n",
    "\n",
    "lengths = len_finder(sentence_array)\n",
    "\n",
    "lengths_df = pd.DataFrame(lengths)\n",
    "\n",
    "print(lengths_df.describe()) # since there is a relatively large standard deviation of character lengths, tfidf would help normalize weights of tokens"
   ]
  },
  {
   "cell_type": "code",
   "execution_count": 3,
   "metadata": {},
   "outputs": [
    {
     "name": "stdout",
     "output_type": "stream",
     "text": [
      "total number of documents:  3061\n",
      "\n",
      "label proportions:\n",
      " label\n",
      "0    0.442992\n",
      "3    0.326037\n",
      "1    0.161385\n",
      "2    0.069585\n",
      "dtype: float64\n"
     ]
    }
   ],
   "source": [
    "# Data-split or Cross Validation?\n",
    "\n",
    "# Count for each label\n",
    "paper_groups = papers.groupby(by=['label']).size().sort_values(ascending=False)\n",
    "\n",
    "# Count all documents\n",
    "num_papers = papers.shape[0]\n",
    "\n",
    "# proportion of labels\n",
    "paper_groups = paper_groups/num_papers\n",
    "\n",
    "print('total number of documents: ', num_papers)\n",
    "print('\\nlabel proportions:\\n', paper_groups)\n",
    "\n",
    "# since there are only ~3k documents and labels are skewed, cross-validation of K=5 will be used to train/test models"
   ]
  },
  {
   "cell_type": "markdown",
   "metadata": {},
   "source": [
    "# Data Split"
   ]
  },
  {
   "cell_type": "code",
   "execution_count": 4,
   "metadata": {},
   "outputs": [],
   "source": [
    "# Split test and train\n",
    "\n",
    "import sklearn\n",
    "from sklearn.model_selection import train_test_split\n",
    "\n",
    "x_ = papers.sentence.values\n",
    "y_ = papers.label.values\n",
    "\n",
    "x_train, x_test, y_train, y_test = train_test_split(x_, y_, test_size=(1/5), random_state=0)\n"
   ]
  },
  {
   "cell_type": "markdown",
   "metadata": {},
   "source": [
    "# Vectorization"
   ]
  },
  {
   "cell_type": "code",
   "execution_count": 5,
   "metadata": {},
   "outputs": [],
   "source": [
    "# vectorize\n",
    "from sklearn.feature_extraction.text import TfidfVectorizer\n",
    "from sklearn.feature_extraction.text import CountVectorizer\n",
    "\n",
    "tfidf_1g_vec  = TfidfVectorizer(stop_words='english')\n",
    "tfidf_12g_vec = TfidfVectorizer(stop_words='english', ngram_range=(1,2))\n",
    "\n",
    "count_1g_vec  = CountVectorizer(stop_words='english')\n",
    "count_12g_vec = CountVectorizer(stop_words='english', ngram_range=(1,2))\n",
    "\n",
    "vecs = [tfidf_1g_vec,tfidf_12g_vec,count_1g_vec,count_12g_vec]\n",
    "\n",
    "vecs_fit = [i.fit(x_train, y_train) for i in vecs]"
   ]
  },
  {
   "cell_type": "markdown",
   "metadata": {},
   "source": [
    "# Make Pipelines"
   ]
  },
  {
   "cell_type": "code",
   "execution_count": 6,
   "metadata": {},
   "outputs": [],
   "source": [
    "# Build Pipes\n",
    "\n",
    "from sklearn.naive_bayes import MultinomialNB\n",
    "from sklearn.pipeline import Pipeline\n",
    "from sklearn.svm import LinearSVC\n",
    "from sklearn.model_selection import RandomizedSearchCV\n",
    "\n",
    "mnb = MultinomialNB()\n",
    "svc = LinearSVC()\n",
    "tfidf = TfidfVectorizer()\n",
    "count = CountVectorizer()\n",
    "\n",
    "\n",
    "mnb_tfidf_pipe = Pipeline([('vec_tfidf', tfidf), ('model_mnb', mnb)])\n",
    "\n",
    "mnb_count_pipe = Pipeline([('vec_count', count), ('model_mnb', mnb)])\n",
    "\n",
    "svc_tfidf_pipe = Pipeline([('vec_tfidf', tfidf),('model_svc', svc)])\n",
    "\n",
    "svc_count_pipe = Pipeline([('vec_count', count),('model_svc', svc)])"
   ]
  },
  {
   "cell_type": "code",
   "execution_count": 75,
   "metadata": {},
   "outputs": [],
   "source": [
    "# generate search grid parameters\n",
    "\n",
    "tfidf_params = dict(\n",
    "    vec_tfidf__encoding=['latin-1'],\n",
    "    vec_tfidf__stop_words=['english',None],\n",
    "    vec_tfidf__ngram_range=[(1,1),(1,2),(1,3)],\n",
    "    vec_tfidf__max_df=[.55,.6,.65],\n",
    "    vec_tfidf__min_df=[1],\n",
    "    vec_tfidf__norm=['l1','l2'])\n",
    "\n",
    "count_params = dict(\n",
    "    vec_count__encoding=['latin-1'],\n",
    "    vec_count__stop_words=['english', None],\n",
    "    vec_count__ngram_range=[(1,1),(1,2),(1,3)],\n",
    "    vec_count__max_df=[.55,.6,.65],\n",
    "    vec_count__min_df=[1])\n",
    "\n",
    "mnb_params = dict(\n",
    "    model_mnb__alpha=[.8,.9,1])\n",
    "\n",
    "svc_params = dict(\n",
    "    model_svc__C=[.7,.8])"
   ]
  },
  {
   "cell_type": "code",
   "execution_count": 76,
   "metadata": {},
   "outputs": [],
   "source": [
    "# Assign Search Grid params\n",
    "\n",
    "from sklearn.model_selection import GridSearchCV\n",
    "\n",
    "# tfidf and MNB\n",
    "tfidf_mnb_params = {**tfidf_params, **mnb_params}\n",
    "tfidf_mnb_grid = GridSearchCV(mnb_tfidf_pipe, tfidf_mnb_params, cv=5, n_jobs=-1)\n",
    "\n",
    "# count and MNB\n",
    "count_mnb_params = {**count_params, **mnb_params}\n",
    "count_mnb_grid = GridSearchCV(mnb_count_pipe, count_mnb_params, cv=5, n_jobs=-1)\n",
    "\n",
    "# tfidf and SVC\n",
    "tfidf_svc_params = {**tfidf_params, **svc_params}\n",
    "tfidf_svc_grid = GridSearchCV(svc_tfidf_pipe, tfidf_svc_params, cv=5, n_jobs=-1)\n",
    "\n",
    "# count and SVC\n",
    "count_svc_params = {**count_params, **svc_params}\n",
    "count_svc_grid = GridSearchCV(svc_count_pipe, count_svc_params, cv=5, n_jobs=-1)\n"
   ]
  },
  {
   "cell_type": "markdown",
   "metadata": {},
   "source": [
    "# Fit Models"
   ]
  },
  {
   "cell_type": "code",
   "execution_count": 77,
   "metadata": {},
   "outputs": [
    {
     "data": {
      "text/plain": [
       "GridSearchCV(cv=5,\n",
       "             estimator=Pipeline(steps=[('vec_count', CountVectorizer()),\n",
       "                                       ('model_svc', LinearSVC())]),\n",
       "             n_jobs=-1,\n",
       "             param_grid={'model_svc__C': [0.7, 0.8],\n",
       "                         'vec_count__encoding': ['latin-1'],\n",
       "                         'vec_count__max_df': [0.55, 0.6, 0.65],\n",
       "                         'vec_count__min_df': [1],\n",
       "                         'vec_count__ngram_range': [(1, 1), (1, 2), (1, 3)],\n",
       "                         'vec_count__stop_words': ['english', None]})"
      ]
     },
     "execution_count": 77,
     "metadata": {},
     "output_type": "execute_result"
    }
   ],
   "source": [
    "# fit models\n",
    "\n",
    "tfidf_mnb_grid.fit(x_train, y_train)\n",
    "count_mnb_grid.fit(x_train, y_train)\n",
    "tfidf_svc_grid.fit(x_train, y_train)\n",
    "count_svc_grid.fit(x_train, y_train)\n",
    "\n"
   ]
  },
  {
   "cell_type": "markdown",
   "metadata": {},
   "source": [
    "# Find best scoring vectorization method/model"
   ]
  },
  {
   "cell_type": "code",
   "execution_count": 145,
   "metadata": {},
   "outputs": [
    {
     "name": "stdout",
     "output_type": "stream",
     "text": [
      "0.6715687992988606\n",
      "0.7087425399607696\n",
      "0.7614356662910564\n",
      "0.7577571887650766\n",
      "\n",
      "Parameters of the best model:\n",
      " {'model_svc__C': 0.8, 'vec_tfidf__encoding': 'latin-1', 'vec_tfidf__max_df': 0.55, 'vec_tfidf__min_df': 1, 'vec_tfidf__ngram_range': (1, 2), 'vec_tfidf__norm': 'l2', 'vec_tfidf__stop_words': None}\n",
      "\n",
      "Parameters of the best model:\n",
      " {'model_mnb__alpha': 0.8, 'vec_count__encoding': 'latin-1', 'vec_count__max_df': 0.55, 'vec_count__min_df': 1, 'vec_count__ngram_range': (1, 2), 'vec_count__stop_words': None}\n"
     ]
    }
   ],
   "source": [
    "# compare results\n",
    "\n",
    "print(tfidf_mnb_grid.best_score_)\n",
    "\n",
    "print(count_mnb_grid.best_score_)\n",
    "\n",
    "print(tfidf_svc_grid.best_score_)\n",
    "\n",
    "print(count_svc_grid.best_score_)\n",
    "\n",
    "# observing the best params, we can reassign the grid so that each best param value is in the middle of the range,\n",
    "# then fit again. Once the accuracy increase delta goes under 1, we can stop.\n",
    "\n",
    "print('\\nParameters of the best model:\\n',tfidf_svc_grid.best_params_)\n",
    "\n"
   ]
  },
  {
   "cell_type": "markdown",
   "metadata": {},
   "source": [
    "# Feature Ranking"
   ]
  },
  {
   "cell_type": "code",
   "execution_count": 84,
   "metadata": {},
   "outputs": [
    {
     "name": "stdout",
     "output_type": "stream",
     "text": [
      "Top 10 no relation words:\n",
      " ['should', 'studies', 'needed', 'need', 'further', 'should be', 'research', 'future', 'safety', 'required', 'study', 'can be', 'appropriate', 'larger', 'trial', 'trials', 'screening', 'be', 'assessment', 'needed to']\n",
      "\n",
      "Top 10 direct causal words:\n",
      " ['improved', 'effective', 'resulted in', 'resulted', 'effect', 'improves', 'effects', 'did', 'did not', 'benefit', 'can', 'reduced', 'reducing', 'increased the', 'that', 'benefits', 'affected', 'significantly', 'oral', 'impact']\n",
      "\n",
      "Top 10 conditional causal words:\n",
      " ['may', 'could', 'might', 'may have', 'may improve', 'improve', 'reduce', 'role in', 'may increase', 'may reduce', 'the risk', 'role', 'play', 'appear', 'effective', 'increase', 'appear to', 'play role', 'likely', 'to influence']\n",
      "\n",
      "Top 10 correlation words:\n",
      " ['associated', 'associated with', 'related to', 'with', 'predict', 'between', 'related', 'association', 'increased', 'were', 'predictor', 'was', 'higher', 'risk', 'risk factor', 'lower', 'is associated', 'correlated', 'predictors of', 'predictors']\n"
     ]
    }
   ],
   "source": [
    "# Top 10 features for each category in SVM\n",
    "\n",
    "# extract features and coefficients\n",
    "coeffs_ = tfidf_svc_grid.best_estimator_.named_steps['model_svc'].coef_\n",
    "vocab_  = tfidf_svc_grid.best_estimator_.named_steps['vec_tfidf'].get_feature_names_out()\n",
    "\n",
    "# init dataframe\n",
    "coef_df = pd.DataFrame(\n",
    "    index=vocab_\n",
    ")\n",
    "\n",
    "# assign coefficients to each category\n",
    "coef_df['0_NoRelation'] = coeffs_[0]\n",
    "coef_df['1_Direct'] = coeffs_[1]\n",
    "coef_df['2_Conditional'] = coeffs_[2]\n",
    "coef_df['3_Correlation'] = coeffs_[3]\n",
    "\n",
    "# print out top 10 features for each category\n",
    "\n",
    "top_noRelation       = coef_df['0_NoRelation'].sort_values(ascending=False).head(20).index.tolist()\n",
    "top_direct           = coef_df['1_Direct'].sort_values(ascending=False).head(20).index.tolist()\n",
    "top_conditional      = coef_df['2_Conditional'].sort_values(ascending=False).head(20).index.tolist()\n",
    "top_correlational    = coef_df['3_Correlation'].sort_values(ascending=False).head(20).index.tolist()\n",
    "\n",
    "\n",
    "print('Top 10 no relation words:\\n',top_noRelation)\n",
    "print('\\nTop 10 direct causal words:\\n',top_direct)\n",
    "print('\\nTop 10 conditional causal words:\\n',top_conditional)\n",
    "print('\\nTop 10 correlation words:\\n',top_correlational)\n"
   ]
  },
  {
   "cell_type": "markdown",
   "metadata": {},
   "source": [
    "# Performance"
   ]
  },
  {
   "cell_type": "code",
   "execution_count": 118,
   "metadata": {},
   "outputs": [
    {
     "data": {
      "image/png": "[encoded data removed]",
      "text/plain": [
       "<Figure size 432x288 with 2 Axes>"
      ]
     },
     "metadata": {
      "needs_background": "light"
     },
     "output_type": "display_data"
    }
   ],
   "source": [
    "# confusion matrix of MNB\n",
    "\n",
    "from sklearn.metrics import ConfusionMatrixDisplay\n",
    "import matplotlib as plt\n",
    "\n",
    "y_pred_mnb = count_mnb_grid.predict(x_test)\n",
    "cm_mnb = ConfusionMatrixDisplay.from_predictions(\n",
    "    y_true=y_test, \n",
    "    y_pred=y_pred_mnb, \n",
    "    display_labels=['no relation','direct causal','conditional causal','correlational'], \n",
    "    xticks_rotation=20\n",
    ")"
   ]
  },
  {
   "cell_type": "code",
   "execution_count": 120,
   "metadata": {},
   "outputs": [
    {
     "data": {
      "image/png": "[encoded data removed]",
      "text/plain": [
       "<Figure size 432x288 with 2 Axes>"
      ]
     },
     "metadata": {
      "needs_background": "light"
     },
     "output_type": "display_data"
    }
   ],
   "source": [
    "# Confusion Matrix of SVM\n",
    "\n",
    "y_pred_svc = tfidf_svc_grid.predict(x_test)\n",
    "\n",
    "cm_svc = ConfusionMatrixDisplay.from_predictions(\n",
    "    y_true=y_test, \n",
    "    y_pred=y_pred_svc, \n",
    "    display_labels=['no relation','direct causal','conditional causal','correlational'], \n",
    "    xticks_rotation=20\n",
    ")"
   ]
  },
  {
   "cell_type": "code",
   "execution_count": 135,
   "metadata": {},
   "outputs": [
    {
     "name": "stdout",
     "output_type": "stream",
     "text": [
      "MNB \n",
      "precision:  [0.80373832 0.79069767 1.         0.68548387] \n",
      "recall:  [0.85714286 0.4        0.02272727 0.92896175] \n",
      "F1-Measure:  [0.82958199 0.53125    0.04444444 0.78886311]\n",
      "\n",
      "\n",
      "SVC \n",
      "precision:  [0.83666667 0.72368421 0.83333333 0.78403756] \n",
      "recall:  [0.83388704 0.64705882 0.45454545 0.91256831] \n",
      "F1-Measure:  [0.83527454 0.68322981 0.58823529 0.84343434]\n"
     ]
    }
   ],
   "source": [
    "# Compute precision, recall, F1\n",
    "\n",
    "from sklearn.metrics import precision_score, recall_score, f1_score\n",
    "\n",
    "# MNB\n",
    "precision_mnb = precision_score(y_test, y_pred_mnb, average=None) # micro average since it Calculate metrics globally by counting the total true positives, false negatives and false positives.\n",
    "recall_mnb = recall_score(y_test, y_pred_mnb, average=None)\n",
    "f1_mnb = f1_score(y_test, y_pred_mnb, average=None)\n",
    "\n",
    "print(\n",
    "    'MNB',\n",
    "    '\\nprecision: ', precision_mnb,\n",
    "    '\\nrecall: ', recall_mnb,\n",
    "    '\\nF1-Measure: ',f1_mnb\n",
    ")\n",
    "\n",
    "# SVC\n",
    "precision_svc = precision_score(y_test, y_pred_svc, average=None) \n",
    "recall_svc = recall_score(y_test, y_pred_svc, average=None)\n",
    "f1_svc = f1_score(y_test, y_pred_svc, average=None)\n",
    "\n",
    "print(\n",
    "    '\\n\\nSVC',\n",
    "    '\\nprecision: ', precision_svc,\n",
    "    '\\nrecall: ', recall_svc,\n",
    "    '\\nF1-Measure: ',f1_svc\n",
    ")"
   ]
  },
  {
   "cell_type": "markdown",
   "metadata": {},
   "source": [
    "# Error Analysis"
   ]
  },
  {
   "cell_type": "code",
   "execution_count": 144,
   "metadata": {},
   "outputs": [
    {
     "name": "stdout",
     "output_type": "stream",
     "text": [
      "39\n",
      "31\n",
      "\n",
      "MNB\n",
      " ['Our study confirms the well-known negative metabolic changes in PCOS patients.', 'Among individuals with a history of SAMS, most will tolerate statin  therapy.', 'Fibroadenomas and phyllodes tumours differ with regard to various cytological features, aiding in their distinction on fine-needle aspiration biopsy.', 'Seemingly, obvious reasons could not be retained as valid explanations.', 'Although conventional echocardiography revealed no difference between patients with type 1 DM and healthy children, TDE showed dysfunctions of  both ventricles.'] \n",
      "\n",
      " SVC\n",
      " ['Whereas kitchen and nursing-related aspects of nutritional care seem  to be widely implemented in German NHs, management and quality assurance demands  are often not met.', 'Our study confirms the well-known negative metabolic changes in PCOS patients.', 'The new onset GERD detected on scintigraphy may not be pathologic as there is a decrease in total acid production postsurgery; however, it still remains an important issue and needs long-term follow-up.', 'Although conventional echocardiography revealed no difference between patients with type 1 DM and healthy children, TDE showed dysfunctions of  both ventricles.', '\"Further research may identify relationships between disease-related weight loss and currently used prognostic factors in MM, further  defining the role of this clinical factor in prognostic stratification.\"']\n"
     ]
    }
   ],
   "source": [
    "# Analyze top mislabeled value\n",
    "\n",
    "# MNB\n",
    "no_relation_predicted_correlation_mnb = []\n",
    "\n",
    "for i, pred in enumerate(y_pred_mnb):\n",
    "    if (pred == 3) and (y_test[i] == 0):\n",
    "        no_relation_predicted_correlation_mnb.append(x_test[i])\n",
    "\n",
    "print(len(no_relation_predicted_correlation_mnb))\n",
    "\n",
    "\n",
    "# SVC\n",
    "no_relation_predicted_correlation_svc = []\n",
    "\n",
    "for i, pred in enumerate(y_pred_svc):\n",
    "    if (pred == 3) and (y_test[i] == 0):\n",
    "        no_relation_predicted_correlation_svc.append(x_test[i])\n",
    "\n",
    "print(len(no_relation_predicted_correlation_svc))\n",
    "\n",
    "\n",
    "# Print some of the results\n",
    "print(\n",
    "    '\\nMNB\\n',no_relation_predicted_correlation_mnb[:5], \n",
    "    '\\n\\n',\n",
    "    'SVC\\n',no_relation_predicted_correlation_svc[:5]\n",
    ")"
   ]
  }
 ],
 "metadata": {
  "interpreter": {
   "hash": "ce6039e79e02d3c13aaacb4d762fae775e4ea408f064faa6bfa43082b36868cb"
  },
  "kernelspec": {
   "display_name": "Python 3.8.12 64-bit ('nlp': conda)",
   "name": "python3"
  },
  "language_info": {
   "codemirror_mode": {
    "name": "ipython",
    "version": 3
   },
   "file_extension": ".py",
   "mimetype": "text/x-python",
   "name": "python",
   "nbconvert_exporter": "python",
   "pygments_lexer": "ipython3",
   "version": "3.8.12"
  },
  "orig_nbformat": 4
 },
 "nbformat": 4,
 "nbformat_minor": 2
}
