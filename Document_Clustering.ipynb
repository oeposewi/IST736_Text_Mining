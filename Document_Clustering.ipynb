{
 "cells": [
  {
   "cell_type": "code",
   "execution_count": null,
   "metadata": {},
   "outputs": [
    {
     "data": {
      "text/html": [
       "<div>\n",
       "<style scoped>\n",
       "    .dataframe tbody tr th:only-of-type {\n",
       "        vertical-align: middle;\n",
       "    }\n",
       "\n",
       "    .dataframe tbody tr th {\n",
       "        vertical-align: top;\n",
       "    }\n",
       "\n",
       "    .dataframe thead th {\n",
       "        text-align: right;\n",
       "    }\n",
       "</style>\n",
       "<table border=\"1\" class=\"dataframe\">\n",
       "  <thead>\n",
       "    <tr style=\"text-align: right;\">\n",
       "      <th></th>\n",
       "      <th>id</th>\n",
       "      <th>title</th>\n",
       "    </tr>\n",
       "  </thead>\n",
       "  <tbody>\n",
       "    <tr>\n",
       "      <th>0</th>\n",
       "      <td>2008-05/aga-pop053008</td>\n",
       "      <td>Prevalence of pre-cancerous masses in the colo...</td>\n",
       "    </tr>\n",
       "    <tr>\n",
       "      <th>1</th>\n",
       "      <td>2008-05/e-nfo052708</td>\n",
       "      <td>New form of ECT is as effective as older types...</td>\n",
       "    </tr>\n",
       "    <tr>\n",
       "      <th>2</th>\n",
       "      <td>2008-05/jaaj-add050808</td>\n",
       "      <td>Anti-inflammatory drugs do not improve cogniti...</td>\n",
       "    </tr>\n",
       "    <tr>\n",
       "      <th>3</th>\n",
       "      <td>2008-05/jaaj-mmw052208</td>\n",
       "      <td>Many men with low testosterone levels do not r...</td>\n",
       "    </tr>\n",
       "    <tr>\n",
       "      <th>4</th>\n",
       "      <td>2008-05/jaaj-mot050108</td>\n",
       "      <td>Much of the increased risk of death from smoki...</td>\n",
       "    </tr>\n",
       "  </tbody>\n",
       "</table>\n",
       "</div>"
      ],
      "text/plain": [
       "                       id                                              title\n",
       "0   2008-05/aga-pop053008  Prevalence of pre-cancerous masses in the colo...\n",
       "1     2008-05/e-nfo052708  New form of ECT is as effective as older types...\n",
       "2  2008-05/jaaj-add050808  Anti-inflammatory drugs do not improve cogniti...\n",
       "3  2008-05/jaaj-mmw052208  Many men with low testosterone levels do not r...\n",
       "4  2008-05/jaaj-mot050108  Much of the increased risk of death from smoki..."
      ]
     },
     "execution_count": 1,
     "metadata": {},
     "output_type": "execute_result"
    }
   ],
   "source": [
    "# read in csv\n",
    "import pandas as pd\n",
    "headlines_df = pd.read_csv('headline_10000.csv')\n",
    "headlines_df.head()"
   ]
  },
  {
   "cell_type": "code",
   "execution_count": 2,
   "metadata": {},
   "outputs": [],
   "source": [
    "import spacy\n",
    "\n",
    "# Tokenize words using spaCy\n",
    "nlp = spacy.load('en_core_web_sm')\n",
    "\n",
    "headlines_df['doc_obj'] = headlines_df.title.apply(lambda x: nlp(x))"
   ]
  },
  {
   "cell_type": "code",
   "execution_count": 3,
   "metadata": {},
   "outputs": [],
   "source": [
    "# function to remove stopwords and punctuation then lemmatize\n",
    "def remove_punct_stops(doc_object):\n",
    "    cleaned_tkns_list = [tkn.lemma_ for tkn in doc_object if not tkn.is_punct | tkn.is_stop]\n",
    "    return ' '.join(cleaned_tkns_list)"
   ]
  },
  {
   "cell_type": "code",
   "execution_count": 4,
   "metadata": {},
   "outputs": [],
   "source": [
    "# process docs\n",
    "headlines_df['doc_clean'] = headlines_df.doc_obj.apply(lambda x: remove_punct_stops(x)) \n",
    "\n",
    "# bring values into list for later processing\n",
    "headlines_list = headlines_df.doc_clean.tolist() \n"
   ]
  },
  {
   "cell_type": "code",
   "execution_count": 5,
   "metadata": {},
   "outputs": [
    {
     "data": {
      "text/plain": [
       "(10000, 53105)"
      ]
     },
     "execution_count": 5,
     "metadata": {},
     "output_type": "execute_result"
    }
   ],
   "source": [
    "from sklearn.feature_extraction.text import CountVectorizer\n",
    "\n",
    "# text to vectors using TF\n",
    "vectorizer = CountVectorizer(ngram_range=(1,2), max_df=.90) \n",
    "\n",
    "vecs_tf = vectorizer.fit_transform(headlines_list)\n",
    "    \n",
    "vecs_tf.shape"
   ]
  },
  {
   "cell_type": "code",
   "execution_count": 6,
   "metadata": {},
   "outputs": [
    {
     "data": {
      "text/plain": [
       "(10000, 53105)"
      ]
     },
     "execution_count": 6,
     "metadata": {},
     "output_type": "execute_result"
    }
   ],
   "source": [
    "from sklearn.feature_extraction.text import TfidfVectorizer\n",
    "\n",
    "# Text to vectors using TFIDF\n",
    "vectorizer = TfidfVectorizer(max_df=.9, ngram_range=(1,2))\n",
    "    \n",
    "vecs_tfidf = vectorizer.fit_transform(headlines_list)\n",
    "    \n",
    "vecs_tfidf.shape"
   ]
  },
  {
   "cell_type": "code",
   "execution_count": 7,
   "metadata": {},
   "outputs": [],
   "source": [
    "from sklearn.metrics.pairwise import cosine_similarity\n",
    "import numpy as np\n",
    "\n",
    "# Calculate cosine similarity using third headline as reference\n",
    "cos_sim_tf = cosine_similarity(vecs_tf[2], vecs_tf)\n",
    "cos_sim_tfidf = cosine_similarity(vecs_tfidf[2], vecs_tfidf)\n",
    "\n",
    "# place values into dataframe\n",
    "headlines_df['cos_sim_tf'] = cos_sim_tf[0]\n",
    "headlines_df['cos_sim_tfidf'] = cos_sim_tfidf[0]\n",
    "\n",
    "# make list of top 10 most similar plus reference \n",
    "top_n_similar_tf    = headlines_df.nlargest(11, 'cos_sim_tf')   [['title', 'cos_sim_tf'   ]].values.tolist()\n",
    "top_n_similar_tfidf = headlines_df.nlargest(11, 'cos_sim_tfidf')[['title', 'cos_sim_tfidf']].values.tolist()"
   ]
  },
  {
   "cell_type": "code",
   "execution_count": 8,
   "metadata": {},
   "outputs": [
    {
     "name": "stdout",
     "output_type": "stream",
     "text": [
      "ten most similar TF: \n",
      " -------------------------------------------------------------------------------------------  --------\n",
      "Anti-inflammatory drugs do not improve cognitive function in older adults                    1\n",
      "The link between cognitive function and sexuality in older adults                            0.467099\n",
      "Drug improves cognitive function in mouse model of Down syndrome, Stanford study says        0.414644\n",
      "Anti-inflammatory drugs ineffective for prevention of Alzheimer's disease                    0.358057\n",
      "Plant compounds may boost brain function in older adults, study says                         0.313112\n",
      "Colorectal cancer prevention: A proven benefit of nonsteroidal anti-inflammatory drugs       0.313112\n",
      "Can training improve memory, thinking abilities in older adults with cognitive impairment?   0.313112\n",
      "Hazelnuts improve older adults' micronutrient levels                                         0.3114\n",
      "Non-steroidal anti-inflammatory drugs linked to increased risk of erectile dysfunction       0.296174\n",
      "Self-administered light therapy may improve cognitive function after traumatic brain injury  0.296174\n",
      "Aspirin and similar drugs may be associated with brain microbleeds in older adults           0.266667\n",
      "-------------------------------------------------------------------------------------------  --------\n",
      "ten most similar TFIDF: \n",
      " -------------------------------------------------------------------------------------------  --------\n",
      "Anti-inflammatory drugs do not improve cognitive function in older adults                    1\n",
      "Drug improves cognitive function in mouse model of Down syndrome, Stanford study says        0.380168\n",
      "Anti-inflammatory drugs ineffective for prevention of Alzheimer's disease                    0.349282\n",
      "The link between cognitive function and sexuality in older adults                            0.335338\n",
      "Colorectal cancer prevention: A proven benefit of nonsteroidal anti-inflammatory drugs       0.295476\n",
      "Non-steroidal anti-inflammatory drugs linked to increased risk of erectile dysfunction       0.295299\n",
      "Self-administered light therapy may improve cognitive function after traumatic brain injury  0.274473\n",
      "Plant compounds may boost brain function in older adults, study says                         0.240208\n",
      "Anti-inflammatory therapy cuts risk of lung cancer                                           0.235632\n",
      "Anti-inflammatory medicine can have a beneficial effect on depression                        0.230514\n",
      "Anti-inflammatory plant-based diet helps reduce gingivitis                                   0.197762\n",
      "-------------------------------------------------------------------------------------------  --------\n"
     ]
    }
   ],
   "source": [
    "from tabulate import tabulate\n",
    "\n",
    "# Print outputs of both methods to compare\n",
    "print('ten most similar TF: \\n', tabulate(top_n_similar_tf))\n",
    "print('ten most similar TFIDF: \\n', tabulate(top_n_similar_tfidf))"
   ]
  },
  {
   "cell_type": "code",
   "execution_count": 9,
   "metadata": {},
   "outputs": [
    {
     "ename": "ModuleNotFoundError",
     "evalue": "No module named 'docx'",
     "output_type": "error",
     "traceback": [
      "\u001b[1;31m---------------------------------------------------------------------------\u001b[0m",
      "\u001b[1;31mModuleNotFoundError\u001b[0m                       Traceback (most recent call last)",
      "\u001b[1;32m~\\AppData\\Local\\Temp/ipykernel_7080/286679865.py\u001b[0m in \u001b[0;36m<module>\u001b[1;34m\u001b[0m\n\u001b[1;32m----> 1\u001b[1;33m \u001b[1;32mimport\u001b[0m \u001b[0mdocx\u001b[0m\u001b[1;33m\u001b[0m\u001b[1;33m\u001b[0m\u001b[0m\n\u001b[0m\u001b[0;32m      2\u001b[0m \u001b[1;33m\u001b[0m\u001b[0m\n\u001b[0;32m      3\u001b[0m \u001b[1;31m# Save results to a word doc table object\u001b[0m\u001b[1;33m\u001b[0m\u001b[1;33m\u001b[0m\u001b[1;33m\u001b[0m\u001b[0m\n\u001b[0;32m      4\u001b[0m \u001b[1;32mdef\u001b[0m \u001b[0mmake_docx_table\u001b[0m\u001b[1;33m(\u001b[0m\u001b[0mtop_n_similar_list\u001b[0m\u001b[1;33m,\u001b[0m \u001b[0mvalue_title\u001b[0m\u001b[1;33m,\u001b[0m \u001b[0mout_file_name\u001b[0m\u001b[1;33m)\u001b[0m\u001b[1;33m:\u001b[0m\u001b[1;33m\u001b[0m\u001b[1;33m\u001b[0m\u001b[0m\n\u001b[0;32m      5\u001b[0m     \u001b[0mw_doc\u001b[0m \u001b[1;33m=\u001b[0m \u001b[0mdocx\u001b[0m\u001b[1;33m.\u001b[0m\u001b[0mDocument\u001b[0m\u001b[1;33m(\u001b[0m\u001b[1;33m)\u001b[0m \u001b[1;31m# create word doc object\u001b[0m\u001b[1;33m\u001b[0m\u001b[1;33m\u001b[0m\u001b[0m\n",
      "\u001b[1;31mModuleNotFoundError\u001b[0m: No module named 'docx'"
     ]
    }
   ],
   "source": [
    "import docx\n",
    "\n",
    "# Save results to a word doc table object\n",
    "def make_docx_table(top_n_similar_list, value_title, out_file_name):\n",
    "    w_doc = docx.Document() # create word doc object\n",
    "    table = w_doc.add_table(rows = 1, cols= len(top_n_similar_list[0]), style='TableGrid') # initialise table\n",
    "\n",
    "    # Add heading in first row\n",
    "    row = table.rows[0].cells\n",
    "    row[0].text = 'Title'\n",
    "    row[1].text = value_title\n",
    "\n",
    "    # add data to table\n",
    "    for title_and_val in top_n_similar_list:\n",
    "        row = table.add_row().cells\n",
    "\n",
    "        row[0].text = title_and_val[0]                    # original text\n",
    "        row[1].text = str(round(title_and_val[1], 2))     # rounded value\n",
    "    \n",
    "    # save into document\n",
    "    w_doc.save(out_file_name)\n",
    "\n",
    "\n",
    "\n",
    "make_docx_table(top_n_similar_tf, 'Cosine Similarity Values', 'top_n_similar_TF_table.docx')\n",
    "\n",
    "# Save TF-IDF results to docx table\n",
    "make_docx_table(top_n_similar_tfidf, 'Cosine Similarity Values', 'top_n_similar_TFIDF_table.docx')"
   ]
  },
  {
   "cell_type": "markdown",
   "metadata": {},
   "source": [
    "# TF Vs. TFIDF\n",
    "## The reference document could be broken down into three components:\n",
    "## 1. anti-inflammatory drugs\n",
    "## 2. cognitive function\n",
    "## 3. older adults\n",
    "## These components could be potential topics to explore in the corpus.\n",
    "## Both methods result in these categories, they have the same top 3 most similar articles. However, TF/IDF method seems to perform better considering we are going to perform topic modelling, it has greater potential to filter out articles that have many components that contain one of the components from the reference document."
   ]
  },
  {
   "cell_type": "code",
   "execution_count": 10,
   "metadata": {},
   "outputs": [
    {
     "name": "stdout",
     "output_type": "stream",
     "text": [
      "  cluster    count\n",
      "---------  -------\n",
      "        0     7660\n",
      "        1     1183\n",
      "        2     1157\n",
      "---------  -------------------------------------------------------------------------------------------------\n",
      "cluster_0  ['Less than 1 percent of UK public research funding spent on antibiotic research in past 5 years'\n",
      "            \"Study compares countries' mortality rates after aneurysm surgery\"]\n",
      "cluster_1  ['Traffic noise increases the risk of having a stroke'\n",
      "            'Mediterranean diet counteracts a genetic risk of stroke, study reports']\n",
      "cluster_2  ['UCLA researchers find a wide variation in costs to treat low-risk prostate cancer'\n",
      "            'Off-the-shelf cancer detection']\n",
      "---------  -------------------------------------------------------------------------------------------------\n"
     ]
    },
    {
     "data": {
      "text/plain": [
       "<10000x53105 sparse matrix of type '<class 'numpy.float64'>'\n",
       "\twith 145153 stored elements in Compressed Sparse Row format>"
      ]
     },
     "execution_count": 10,
     "metadata": {},
     "output_type": "execute_result"
    }
   ],
   "source": [
    "from sklearn.cluster import KMeans\n",
    "from sklearn.preprocessing import Normalizer\n",
    "import scipy\n",
    "from scipy import stats\n",
    "from scipy.stats import zscore\n",
    "\n",
    "# K-means Clustering\n",
    "def analyze_clusters(k, vec_data, n_samples_per_clust):\n",
    "    # initialize kmeans model\n",
    "    kmeans = KMeans(n_clusters=k,random_state=0, init = 'k-means++', n_init=10, max_iter=200)\n",
    "\n",
    "    # normalize matrix\n",
    "    transformer = Normalizer().fit(vec_data)\n",
    "    norm_vecs = transformer.transform(vec_data)\n",
    "    #norm_vecs = stats.zscore(vec_data, axis = 1, ddof = 1)\n",
    "\n",
    "    # fit model to data\n",
    "    kmeans_fit = kmeans.fit(norm_vecs)\n",
    "\n",
    "    # place cluster assignnments into dataframe\n",
    "    headlines_df['km_cluster_labels'] = kmeans_fit.labels_\n",
    "\n",
    "    # place distance to centroid in df\n",
    "    #headlines_df['distance'] = kmeans_fit.cluster_centers_\n",
    "    \n",
    "    #print(kmeans_fit.transform(norm_vecs))\n",
    "    #print(len(kmeans_fit.transform(norm_vecs)))\n",
    "\n",
    "    # print number of articles in each cluster\n",
    "    clust_nums = []\n",
    "    for clust in np.sort(headlines_df.km_cluster_labels.unique()):\n",
    "        clust_nums.append([clust, \n",
    "            headlines_df[headlines_df['km_cluster_labels']==clust].shape[0]])\n",
    "    print(tabulate(clust_nums, headers=['cluster', 'count']))\n",
    "\n",
    "    # print sample of titles for each cluster\n",
    "    clust_samp = []\n",
    "    for clust in np.sort(headlines_df.km_cluster_labels.unique()):\n",
    "        clust_samp.append(['cluster_{}'.format(clust),\n",
    "                            headlines_df[headlines_df['km_cluster_labels'] == clust]['title'].sample(n=n_samples_per_clust).values])\n",
    "    print(tabulate(clust_samp))\n",
    "\n",
    "    # save samples to file\n",
    "    with open('view_samples.txt','w') as f:\n",
    "        f.write(tabulate(clust_samp))\n",
    "        \n",
    "\n",
    "\n",
    "    return norm_vecs\n",
    "\n",
    "analyze_clusters(3, vecs_tfidf, 2)"
   ]
  },
  {
   "cell_type": "code",
   "execution_count": 36,
   "metadata": {},
   "outputs": [
    {
     "name": "stdout",
     "output_type": "stream",
     "text": [
      "processing for 2 clusters\n",
      "processing for 3 clusters\n",
      "processing for 4 clusters\n",
      "processing for 5 clusters\n",
      "processing for 6 clusters\n",
      "processing for 7 clusters\n",
      "processing for 8 clusters\n",
      "processing for 9 clusters\n",
      "processing for 10 clusters\n",
      "processing for 11 clusters\n",
      "processing for 12 clusters\n",
      "processing for 13 clusters\n",
      "processing for 14 clusters\n",
      "processing for 15 clusters\n"
     ]
    },
    {
     "data": {
      "image/png": "[encoded data removed]",
      "text/plain": [
       "<Figure size 432x288 with 1 Axes>"
      ]
     },
     "metadata": {
      "needs_background": "light"
     },
     "output_type": "display_data"
    }
   ],
   "source": [
    "import matplotlib.pyplot as plt\n",
    "\n",
    "# Find optimal number of clusters\n",
    "def find_optimal_clusters(data, max_k):\n",
    "    iters = range(2, max_k+1, 1)\n",
    "    \n",
    "    sse = []\n",
    "    for k in iters:\n",
    "        print('processing for {} clusters'.format(k))\n",
    "        kmeans_model = KMeans(n_clusters=k,random_state=0, init = 'k-means++', n_init=10, max_iter=200).fit(data)\n",
    "        sse.append(kmeans_model.inertia_)\n",
    "    f, ax = plt.subplots(1, 1)\n",
    "    ax.plot(iters, sse, marker='o')\n",
    "    ax.set_xlabel('Cluster Centers')\n",
    "    ax.set_xticks(iters)\n",
    "    ax.set_xticklabels(iters)\n",
    "    ax.set_ylabel('sse')\n",
    "    ax.set_title('SSE by Cluster Center Plot')\n",
    "    \n",
    "find_optimal_clusters(norm_vecs,15)"
   ]
  },
  {
   "cell_type": "code",
   "execution_count": 11,
   "metadata": {},
   "outputs": [
    {
     "name": "stdout",
     "output_type": "stream",
     "text": [
      "  cluster    count\n",
      "---------  -------\n",
      "        0     5050\n",
      "        1      473\n",
      "        2      700\n",
      "        3      611\n",
      "        4      741\n",
      "        5      518\n",
      "        6      227\n",
      "        7      437\n",
      "        8      288\n",
      "        9      412\n",
      "       10       95\n",
      "       11      448\n",
      "----------  --------------------------------------------------------------------------------------------------------------------------------------------------------------------------------------------------\n",
      "cluster_0   ['Thirty years of fast food: Greater variety, but more salt, larger portions, and added calories'\n",
      "             \"No benefit from addition of aliskiren to 'gold standard' ACE inhibitor\"\n",
      "             'Freeway air bad for mouse brain'\n",
      "             'UPMC-developed test rapidly, accurately profiles genetics and treatment of brain tumors'\n",
      "             'Patients at risk over failure to recognize important diabetes subtype'\n",
      "             'Does payer type -- commercial insurance or Medicare -- affect the use of low-value care?'\n",
      "             'IBD patients: Consider giving infliximab a second try'\n",
      "             'Alcohol on TV makes people drink more'\n",
      "             'Researchers identify potential risk factors for urinary tract infections in young girls'\n",
      "             'Test can identify patients in intensive care at risk of life-threatening infections']\n",
      "cluster_1   ['Endurance runners more likely to die of heat stroke than heart condition'\n",
      "             'Women received less aggressive care than men after a heart attack with pumping failure'\n",
      "             'Household air pollution linked to higher risk of heart attacks, death'\n",
      "             'HIV patients at greater risk of both heart and kidney disease'\n",
      "             'Heart disease linked to a higher risk of kidney failure'\n",
      "             'Scorpion has welcome sting for heart bypass patients'\n",
      "             'For adults younger than 78, risk for heart disease linked to risk for problems walking'\n",
      "             'Severe obesity revealed as a stand-alone high-risk factor for heart failure'\n",
      "             'Wearable sensor powered by AI predicts worsening heart failure before hospitalization'\n",
      "             'In pilot study, screening detects potentially serious heart conditions in healthy children']\n",
      "cluster_2   ['The Lancet: Milestone study shows benefits of community-based treatment of schizophrenia'\n",
      "             'Patient requests for specific drugs have major impact on prescribing, reports study in Medical Care'\n",
      "             'Alcohol and tobacco are by far the biggest threat to human welfare of all addictive drugs'\n",
      "             'Inexpensive drug to stop sight loss shown to be effective'\n",
      "             'Not just a pretty face: Botulinum toxin shows promise in trials to reduce post-operative atrial fibrillation (POAF) in cardiac surgery patients'\n",
      "             'Ivacaftor improves smooth muscle function in cystic fibrosis patients'\n",
      "             'Dental research shows that smoking weakens immune systems'\n",
      "             'Women more likely to survive stroke but have poorer recovery than men, study shows'\n",
      "             'UK sales of Xanax and other prescription psychiatric drugs increasing via the darknet'\n",
      "             'Trauma-informed, mindfulness-based intervention significantly improves parenting among mothers in op']\n",
      "cluster_3   ['New psoriasis drug is more effective than current treatment'\n",
      "             'A pair of medical magnets shows promise as a new tool for creating an anastomosis'\n",
      "             'New schizophrenia treatments may be effective for subgroup of patients'\n",
      "             'Scientists identify promising new ALS drug candidates'\n",
      "             'New strep throat risk score brings patient data and big data together to potentially reduce unnecess'\n",
      "             'Identical twins light the way for new genetic cause of arthritis'\n",
      "             'A new treatment option for alcohol dependence: Reduced consumption rather than abstinence'\n",
      "             'New test could predict dementia risk during routine GP visits'\n",
      "             'New test can help doctors choose best treatment for ovarian cancer'\n",
      "             'Children with cancer wait an average of 6.5 years longer than adults to access new drugs']\n",
      "cluster_4   ['Study: Immunotherapy better than chemotherapy for subtype of head and neck cancer'\n",
      "             'New tool to determine the risk of prostate cancer death'\n",
      "             'UC studies tobacco use, cancer connection'\n",
      "             'The Lancet Oncology: Targeted treatments for pancreatic cancer may help eligible patients live an extra year'\n",
      "             'Popular colorectal cancer drug may cause permanent nerve damage'\n",
      "             \"Music therapy's positive effects on young cancer patients' coping skills, social integration\"\n",
      "             'Cancer diagnosis while pregnant should not lead to treatment delay or end of pregnancy'\n",
      "             'Radiation plus hormone therapy prolongs survival for older men with prostate cancer'\n",
      "             \"Men who forgo aggressive treatment for prostate cancer don't receive appropriate monitoring\"\n",
      "             'Survivors of childhood cancers 4 times more likely to develop post-traumatic stress disorder']\n",
      "cluster_5   ['First, do no harm: Hospital patients given anti-heartburn drugs have higher risk of dying'\n",
      "             'Breast milk and diet up to 2 years old: A means of preventing the risk of child obesity'\n",
      "             'Blood pressure drugs may lengthen lives of melanoma patients'\n",
      "             'High blood pressure by itself is not necessarily an emergency'\n",
      "             'A better way to help high-risk pregnant smokers'\n",
      "             'Many older adults discharged from the hospital receive inappropriate prescriptions'\n",
      "             'Calorie restriction does not appear to induce bone loss in overweight adults'\n",
      "             'Walking faster or longer linked to significant cardiovascular benefits in older adults'\n",
      "             'One blood pressure drug therapy associated with lower health-care costs'\n",
      "             'Stronger, able older adults have better outcomes when hospitalized with critical illnesses']\n",
      "cluster_6   ['Living close to urban green spaces is associated with a decreased risk of breast cancer'\n",
      "             'Genomic differences between breast cancers of African American and white women identified'\n",
      "             'Estrogen therapy may still hold the key to fight specific ER resistant breast cancers'\n",
      "             'BU identifies contributors to high incidence of breast cancer  in African-American women'\n",
      "             'Study finds high proportion of advanced breast cancers in sub-Saharan Africa'\n",
      "             'Cancer genomics continued: Triple negative breast cancer and cancer immunotherapy'\n",
      "             'Comprehensive breast center improves quality of care for breast reconstruction'\n",
      "             'Reducing radiation could safely cut breast cancer treatment costs'\n",
      "             \"Scientists learn what women know -- and don't know -- about breast density and cancer risk\"\n",
      "             'New test may predict spread of breast cancer']\n",
      "cluster_7   ['Regenstrief, IU study finds assigning hospitalists by unit has both pros and cons'\n",
      "             'Study is first to find direct evidence that ADHD is a genetic disorder'\n",
      "             'Study finds poor compliance with cirrhosis surveillance recommendations'\n",
      "             'Study finds health departments hindered in addressing health concerns from animal production sites'\n",
      "             'Study of homeless finds women at disadvantage for accessing disability benefits'\n",
      "             'Comprehensive study of allergic deaths in US finds medications are main culprit'\n",
      "             'New Moffitt study finds black women have higher frequency of BRCA mutations than previously reported'\n",
      "             \"Hasbro Children's Hospital study finds texting program good option for teen girls' health\"\n",
      "             'Head injury effects halted by xenon gas, finds first ever life-long study in mice'\n",
      "             'Presence of heart pouch may explain strokes of unknown origin, UCI study finds']\n",
      "cluster_8   ['Using telemedicine to increase life expectancy'\n",
      "             \"Mother's flu during pregnancy may increase baby's risk of schizophrenia\"\n",
      "             'Popular blood pressure medicine linked with increased risk of skin cancer'\n",
      "             'Study suggests swimmers at sub-tropical beaches show increased risk of illness'\n",
      "             'Weight loss surgery may increase fracture risk'\n",
      "             'Even a few cigarettes a day increases risk of rheumatoid arthritis'\n",
      "             'Certain occupations linked to an increased risk of rheumatoid arthritis'\n",
      "             'Certain antibiotics during pregnancy may increase risk of birth defects'\n",
      "             'Patients with eating disorders have an increased risk of autoimmune diseases'\n",
      "             'Smoking during pregnancy results in an increased risk of asthma even in adulthood']\n",
      "cluster_9   ['Breast conserving treatment with radiotherapy reduces risk of local recurrence'\n",
      "             'Psoriasis patients have reduced access to efficient treatment method with age'\n",
      "             'Honey may reduce injury in children who have swallowed button batteries'\n",
      "             'Immunotherapy benefits relapsed stem cell transplant recipients'\n",
      "             'Exercise reduces stress, improves cellular health in family caregivers'\n",
      "             'Study: Yoga helps back pain among veterans'\n",
      "             'Stem cells aid muscle repair and strengthening after resistance exercise'\n",
      "             'Ablation during mitral valve surgery reduces atrial fibrillation'\n",
      "             'TXA administered intravenously and by injection reduces blood loss after knee replacement'\n",
      "             'Treatment of humans and pigs may reduce endemic tapeworm infection']\n",
      "cluster_10  ['Maternal transmission of COVID-19 to baby during pregnancy is uncommon, study finds'\n",
      "             'Lancaster academic sees positives in first published clinical trial of COVID-19 treatment'\n",
      "             'COVID-19 measures deepening health inequalities in slum communities'\n",
      "             'Punctured lung affects one in a 100 hospitalized COVID-19 patients'\n",
      "             'The Lancet Infectious Diseases: Individual decisions to reduce movement -- even before state-wide stay-at-home policies were introduced -- likely helped slow the spread of COVID-19 in the USA'\n",
      "             'Higher rates of severe COVID-19 in BAME populations remain unexplained'\n",
      "             'Fewer serious asthma events in Philadelphia area following COVID-19 stay-at-home orders'\n",
      "             'The Lancet: First prospective study of critically ill COVID-19 patients from New York City sheds light on how virus affects adult patients in USA'\n",
      "             \"Tocilizumab doesn't ease symptoms or prevent death in moderately ill COVID-19 inpatients\"\n",
      "             'Study confirms \"classic\" symptoms of COVID-19']\n",
      "cluster_11  [\"Metformin can substantially reduce the risk of Parkinson's disease in diabetes\"\n",
      "             'NSAID use linked to reduced hepatocellular carcinoma risk and mortality due to chronic liver disease'\n",
      "             'For people with severe mental illness, cardiovascular disease risk may be underestimated'\n",
      "             'High unexpressed anger in MS patients linked to nervous system damage, not disease severity'\n",
      "             'Gut bacteria byproduct linked to chronic kidney disease for the first time'\n",
      "             'Artificial intelligence approaches may improve diagnostics of kidney disease'\n",
      "             'Is hand washing enough to stop the spread of disease?'\n",
      "             'Everyday chemicals linked to chronic disease in men'\n",
      "             'Mayo Clinic researchers identify potential new therapy for liver diseases'\n",
      "             'BU: Central American kidney disease epidemic linked to occupational heat exposure']\n",
      "----------  --------------------------------------------------------------------------------------------------------------------------------------------------------------------------------------------------\n"
     ]
    },
    {
     "data": {
      "text/plain": [
       "<10000x53105 sparse matrix of type '<class 'numpy.float64'>'\n",
       "\twith 145153 stored elements in Compressed Sparse Row format>"
      ]
     },
     "execution_count": 11,
     "metadata": {},
     "output_type": "execute_result"
    }
   ],
   "source": [
    "# Using the elbow method, k = 12 appears to be a potentially optimal number of clusters\n",
    "analyze_clusters(12, vecs_tfidf, 10)"
   ]
  },
  {
   "cell_type": "code",
   "execution_count": 14,
   "metadata": {},
   "outputs": [],
   "source": [
    "from sklearn.decomposition import LatentDirichletAllocation\n",
    "\n",
    "# Latent Dirichlet Allocation \n",
    "n_topics = 8\n",
    "n_features = 1000\n",
    "\n",
    "tf_vectorizer = CountVectorizer(max_df=0.95, min_df=2, max_features=n_features,stop_words='english')\n",
    "tf = tf_vectorizer.fit_transform(headlines_list)\n",
    "tf_feature_names = tf_vectorizer.get_feature_names()\n",
    "\n",
    "lda = LatentDirichletAllocation(n_components=n_topics, max_iter=5, learning_method='online', learning_offset=50, random_state=0)\n",
    "lda_z = lda.fit_transform(tf)"
   ]
  },
  {
   "cell_type": "code",
   "execution_count": 15,
   "metadata": {},
   "outputs": [
    {
     "data": {
      "text/plain": [
       "[(0, 'drug study new use stroke long lancet infection hiv term'),\n",
       " (1, 'surgery benefit early cancer patient test predict people brain life'),\n",
       " (2, 'study research new trial woman child reveal lung clinical symptom'),\n",
       " (3,\n",
       "  'patient cancer new treatment improve researcher breast help therapy identify'),\n",
       " (4, 'old diabetes adult kidney weight diet lead type loss healthy'),\n",
       " (5, 'child high risk blood cancer 19 covid death rate sleep'),\n",
       " (6, 'risk link heart disease increase high low death young associate'),\n",
       " (7,\n",
       "  'health care study disorder effect mental dementia reduce diagnosis vaccine')]"
      ]
     },
     "execution_count": 15,
     "metadata": {},
     "output_type": "execute_result"
    }
   ],
   "source": [
    "# Display top 10 words for each topic\n",
    "\n",
    "def display_topics(model, feature_names, no_top_words):\n",
    "    topic_words = []\n",
    "    for topic_idx, topic in enumerate(model.components_):\n",
    "        # print topic word\n",
    "        #print(\"Topic %d:\" % (topic_idx))\n",
    "        \n",
    "        top_words = \" \".join([feature_names[i] for i in topic.argsort()[:-no_top_words - 1:-1]])\n",
    "\n",
    "        #print(\" \".join(top_words))\n",
    "\n",
    "        topic_words.append((topic_idx, top_words))\n",
    "    return topic_words\n",
    "\n",
    "no_top_words = 10\n",
    "\n",
    "display_topics(lda, tf_feature_names, no_top_words)\n",
    "\n"
   ]
  },
  {
   "cell_type": "code",
   "execution_count": null,
   "metadata": {},
   "outputs": [
    {
     "data": {
      "text/plain": [
       "'--  -----------------------------------------------------------------------------\\n 0  reduce year death failure medication dementia diabetes lancet heart pregnancy\\n 1  cancer patient treatment breast improve prostate survival therapy test woman\\n 2  child study depression weight diet childhood teen loss poor healthy\\n 3  study surgery benefit patient trial new lung clinical suggest need\\n 4  help woman prevent treat genetic obesity cell gene disorder syndrome\\n 5  use long early hospital study term symptom opioid test life\\n 6  kidney life good chronic exercise birth disease patient diagnosis quality\\n 7  new drug adult study researcher research old identify people hiv\\n 8  health care patient covid 19 diabete outcome injury pain improve\\n 9  brain age alcohol relate vaccine vitamin study cognitive result response\\n10  high blood rate study stroke link antibiotic pressure activity physical\\n11  risk link disease increase heart high death low attack alzheimer\\n--  -----------------------------------------------------------------------------'"
      ]
     },
     "execution_count": 28,
     "metadata": {},
     "output_type": "execute_result"
    }
   ],
   "source": [
    "topic_words = display_topics(lda, tf_feature_names, 6)\n",
    "topic_words"
   ]
  }
 ],
 "metadata": {
  "interpreter": {
   "hash": "fc6a030d5f737aabb1c5c23800926cf1cc2dc1834af272522765e2cf9624557c"
  },
  "kernelspec": {
   "display_name": "Python 3.7.3 64-bit ('base': conda)",
   "name": "python3"
  },
  "language_info": {
   "codemirror_mode": {
    "name": "ipython",
    "version": 3
   },
   "file_extension": ".py",
   "mimetype": "text/x-python",
   "name": "python",
   "nbconvert_exporter": "python",
   "pygments_lexer": "ipython3",
   "version": "3.7.3"
  },
  "orig_nbformat": 4
 },
 "nbformat": 4,
 "nbformat_minor": 2
}
